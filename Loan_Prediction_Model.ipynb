{
  "nbformat": 4,
  "nbformat_minor": 0,
  "metadata": {
    "colab": {
      "provenance": [],
      "mount_file_id": "1bU-T7nQUSC1E8WNRawHGmVltXzGjQfdQ",
      "authorship_tag": "ABX9TyO3EoKBKCU6tPe71FALFCok",
      "include_colab_link": true
    },
    "kernelspec": {
      "name": "python3",
      "display_name": "Python 3"
    },
    "language_info": {
      "name": "python"
    }
  },
  "cells": [
    {
      "cell_type": "markdown",
      "metadata": {
        "id": "view-in-github",
        "colab_type": "text"
      },
      "source": [
        "<a href=\"https://colab.research.google.com/github/Minty-cyber/ShadowFox-AI-ML/blob/main/Loan_Prediction_Model.ipynb\" target=\"_parent\"><img src=\"https://colab.research.google.com/assets/colab-badge.svg\" alt=\"Open In Colab\"/></a>"
      ]
    },
    {
      "cell_type": "markdown",
      "source": [
        "Importing the necessary libraries needed for development."
      ],
      "metadata": {
        "id": "8S39y4N2fgJt"
      }
    },
    {
      "cell_type": "code",
      "execution_count": 95,
      "metadata": {
        "id": "jvTZoZ9acydQ"
      },
      "outputs": [],
      "source": [
        "\n",
        "import pandas as pd\n",
        "import numpy as np\n",
        "import matplotlib.pyplot as plt\n",
        "import torch\n",
        "import torch.nn as nn\n",
        "import torch.optim as optim\n",
        "from sklearn.model_selection import train_test_split\n",
        "from sklearn.preprocessing import StandardScaler, LabelEncoder\n",
        "from sklearn.metrics import accuracy_score\n",
        "from sklearn.compose import ColumnTransformer\n",
        "from sklearn.preprocessing import OneHotEncoder\n",
        "\n"
      ]
    },
    {
      "cell_type": "markdown",
      "source": [],
      "metadata": {
        "id": "6PzX3M31fbqD"
      }
    },
    {
      "cell_type": "code",
      "source": [
        "from google.colab import drive\n",
        "drive.mount('/content/drive')\n",
        "\n",
        "df = pd.read_csv('/content/drive/MyDrive/loan_prediction.csv')\n",
        "\n",
        "df.head()\n",
        "\n",
        "print(df.shape)\n"
      ],
      "metadata": {
        "colab": {
          "base_uri": "https://localhost:8080/"
        },
        "id": "YpR9bYOKdVg8",
        "outputId": "edc795f3-ce55-46d7-9614-9ceab7e0612b"
      },
      "execution_count": 64,
      "outputs": [
        {
          "output_type": "stream",
          "name": "stdout",
          "text": [
            "Drive already mounted at /content/drive; to attempt to forcibly remount, call drive.mount(\"/content/drive\", force_remount=True).\n",
            "(614, 13)\n"
          ]
        }
      ]
    },
    {
      "cell_type": "markdown",
      "source": [
        "Dropping missing values in your dataset"
      ],
      "metadata": {
        "id": "WES9pvK0vsaC"
      }
    },
    {
      "cell_type": "code",
      "source": [
        "df_dropped= df.dropna()\n",
        "print(df_dropped.shape)"
      ],
      "metadata": {
        "id": "AoROOtpGjLOW",
        "colab": {
          "base_uri": "https://localhost:8080/"
        },
        "outputId": "6ddbb288-4b51-4508-aa13-42771b2378e9"
      },
      "execution_count": 65,
      "outputs": [
        {
          "output_type": "stream",
          "name": "stdout",
          "text": [
            "(480, 13)\n"
          ]
        }
      ]
    },
    {
      "cell_type": "markdown",
      "source": [
        "Checking the number of columns present after"
      ],
      "metadata": {
        "id": "2ZtrMxG7vwWr"
      }
    },
    {
      "cell_type": "code",
      "source": [
        "X = df_dropped.drop(['Loan_ID', 'Loan_Status'], axis=1)\n",
        "y = df_dropped['Loan_Status']"
      ],
      "metadata": {
        "id": "X9pyIoGGsBnh"
      },
      "execution_count": 99,
      "outputs": []
    },
    {
      "cell_type": "code",
      "source": [
        "numeric_cols = X.select_dtypes(include=np.number).columns\n",
        "categorical_cols = list(set(X.columns) - set(numeric_cols))\n",
        "\n",
        "# Define transformers for preprocessing\n",
        "preprocessor = ColumnTransformer(\n",
        "    transformers=[\n",
        "        ('num', StandardScaler(), numeric_cols),\n",
        "        ('cat', OneHotEncoder(drop='first'), categorical_cols)\n",
        "    ])"
      ],
      "metadata": {
        "id": "zt0mQN9zPfzK"
      },
      "execution_count": 100,
      "outputs": []
    },
    {
      "cell_type": "code",
      "source": [
        "X_processed = preprocessor.fit_transform(X)"
      ],
      "metadata": {
        "id": "zYQvsl0kPmsq"
      },
      "execution_count": 101,
      "outputs": []
    },
    {
      "cell_type": "code",
      "source": [
        "X_train, X_test, y_train, y_test = train_test_split(X_processed, y, test_size=0.2, random_state=42)"
      ],
      "metadata": {
        "id": "IhiwaATPCfUY"
      },
      "execution_count": 102,
      "outputs": []
    },
    {
      "source": [
        "# Convert y_train and y_test to numeric type before converting to tensors\n",
        "y_train_numeric = y_train.map({'Y': 1, 'N': 0}).astype(float)\n",
        "y_test_numeric = y_test.map({'Y': 1, 'N': 0}).astype(float)\n",
        "\n",
        "X_train_tensor = torch.tensor(X_train, dtype=torch.float32)\n",
        "X_test_tensor = torch.tensor(X_test, dtype=torch.float32)\n",
        "y_train_tensor = torch.tensor(y_train_numeric.values, dtype=torch.float32).view(-1, 1)\n",
        "y_test_tensor = torch.tensor(y_test_numeric.values, dtype=torch.float32).view(-1, 1)"
      ],
      "cell_type": "code",
      "metadata": {
        "id": "Y91Tiw1MQVVw"
      },
      "execution_count": 106,
      "outputs": []
    },
    {
      "cell_type": "code",
      "source": [
        "print(f\"X_train shape: {X_train_tensor.shape}\")\n",
        "print(f\"X_test shape: {X_test_tensor.shape}\")\n",
        "print(f\"y_train shape: {y_train_tensor.shape}\")\n",
        "print(f\"y_test shape: {y_test_tensor.shape}\")"
      ],
      "metadata": {
        "id": "TR-lOslnQbA7"
      },
      "execution_count": null,
      "outputs": []
    },
    {
      "cell_type": "code",
      "source": [
        "class LoanApprovalModel(nn.Module):\n",
        "    def __init__(self, input_size):\n",
        "        super(LoanApprovalModel, self).__init__()\n",
        "        self.fc1 = nn.Linear(input_size, 64)  # First fully connected layer, input_size to 64\n",
        "        self.fc2 = nn.Linear(64, 32)          # Second fully connected layer, 64 to 32\n",
        "        self.fc3 = nn.Linear(32, 1)           # Third fully connected layer, 32 to 1 (output)\n",
        "        self.relu = nn.ReLU()                 # ReLU activation function\n",
        "        self.sigmoid = nn.Sigmoid()\n",
        "\n",
        "    def forward(self, x):\n",
        "          x = self.relu(self.fc1(x))  # Pass through first layer and apply ReLU activation\n",
        "          x = self.relu(self.fc2(x))  # Pass through second layer and apply ReLU activation\n",
        "          x = self.sigmoid(self.fc3(x))  # Pass through third layer and apply Sigmoid activation for binary output\n",
        "          return x"
      ],
      "metadata": {
        "id": "mlDsICNoXeYz"
      },
      "execution_count": 112,
      "outputs": []
    },
    {
      "cell_type": "code",
      "source": [
        "input_size = X_train_tensor.shape[1]\n",
        "\n",
        "# Instantiate the model\n",
        "model = LoanApprovalModel(input_size)"
      ],
      "metadata": {
        "id": "5RHZnMoBXs5M"
      },
      "execution_count": 113,
      "outputs": []
    },
    {
      "cell_type": "code",
      "source": [
        "\n",
        "\n",
        "# Define the loss function and the optimizer\n",
        "criterion = nn.BCELoss()  # Binary Cross Entropy Loss for binary classification\n",
        "optimizer = optim.Adam(model.parameters(), lr=0.001)  # Adam optimizer\n",
        "\n",
        "# Number of epochs\n",
        "num_epochs = 100\n",
        "\n",
        "# Training loop\n",
        "for epoch in range(num_epochs):\n",
        "    model.train()  # Set the model to training mode\n",
        "    optimizer.zero_grad()  # Clear the gradients\n",
        "    outputs = model(X_train_tensor)  # Forward pass\n",
        "    loss = criterion(outputs, y_train_tensor)  # Compute loss\n",
        "    loss.backward()  # Backward pass (compute gradients)\n",
        "    optimizer.step()  # Update weights\n",
        "\n",
        "    if (epoch + 1) % 10 == 0:\n",
        "        print(f'Epoch [{epoch+1}/{num_epochs}], Loss: {loss.item():.4f}')\n"
      ],
      "metadata": {
        "id": "CQuBrPPFcrBs"
      },
      "execution_count": null,
      "outputs": []
    },
    {
      "cell_type": "code",
      "source": [
        "model.eval()  # Set the model to evaluation mode\n",
        "with torch.no_grad():  # No need to compute gradients for evaluation\n",
        "    outputs = model(X_test_tensor)\n",
        "    predicted = (outputs > 0.5).float()  # Convert probabilities to binary (0 or 1)\n",
        "    accuracy = (predicted == y_test_tensor).float().mean()  # Compute accuracy\n",
        "\n",
        "print(f'Accuracy: {accuracy:.4f}')\n"
      ],
      "metadata": {
        "colab": {
          "base_uri": "https://localhost:8080/"
        },
        "id": "UHmjceRpl6KI",
        "outputId": "1a743608-0e68-4c13-b98f-e9a0bf04962d"
      },
      "execution_count": 117,
      "outputs": [
        {
          "output_type": "stream",
          "name": "stdout",
          "text": [
            "Accuracy: 0.8125\n"
          ]
        }
      ]
    }
  ]
}